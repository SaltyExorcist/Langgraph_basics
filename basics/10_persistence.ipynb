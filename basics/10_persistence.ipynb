{
 "cells": [
  {
   "cell_type": "code",
   "execution_count": 1,
   "id": "753d9ca3",
   "metadata": {},
   "outputs": [],
   "source": [
    "from langgraph.graph import StateGraph, START, END\n",
    "from typing import TypedDict\n",
    "from langchain_openai import ChatOpenAI\n",
    "from dotenv import load_dotenv\n",
    "from langgraph.checkpoint.memory import InMemorySaver"
   ]
  },
  {
   "cell_type": "code",
   "execution_count": 2,
   "id": "905e30f7",
   "metadata": {},
   "outputs": [],
   "source": [
    "load_dotenv()\n",
    "\n",
    "llm = ChatOpenAI()"
   ]
  },
  {
   "cell_type": "code",
   "execution_count": 3,
   "id": "21bc28c7",
   "metadata": {},
   "outputs": [],
   "source": [
    "class JokeState(TypedDict):\n",
    "\n",
    "    topic: str\n",
    "    joke: str\n",
    "    explanation: str"
   ]
  },
  {
   "cell_type": "code",
   "execution_count": 4,
   "id": "a034404c",
   "metadata": {},
   "outputs": [],
   "source": [
    "def generate_joke(state: JokeState):\n",
    "\n",
    "    prompt = f'generate a joke on the topic {state[\"topic\"]}'\n",
    "    response = llm.invoke(prompt).content\n",
    "\n",
    "    return {'joke': response}"
   ]
  },
  {
   "cell_type": "code",
   "execution_count": 5,
   "id": "599dd89a",
   "metadata": {},
   "outputs": [],
   "source": [
    "def generate_explanation(state: JokeState):\n",
    "\n",
    "    prompt = f'write an explanation for the joke - {state[\"joke\"]}'\n",
    "    response = llm.invoke(prompt).content\n",
    "\n",
    "    return {'explanation': response}"
   ]
  },
  {
   "cell_type": "code",
   "execution_count": 6,
   "id": "15a5b215",
   "metadata": {},
   "outputs": [],
   "source": [
    "graph = StateGraph(JokeState)\n",
    "\n",
    "graph.add_node('generate_joke', generate_joke)\n",
    "graph.add_node('generate_explanation', generate_explanation)\n",
    "\n",
    "graph.add_edge(START, 'generate_joke')\n",
    "graph.add_edge('generate_joke', 'generate_explanation')\n",
    "graph.add_edge('generate_explanation', END)\n",
    "\n",
    "checkpointer = InMemorySaver()\n",
    "\n",
    "workflow = graph.compile(checkpointer=checkpointer)"
   ]
  },
  {
   "cell_type": "code",
   "execution_count": 7,
   "id": "623208a3",
   "metadata": {},
   "outputs": [
    {
     "data": {
      "text/plain": [
       "{'topic': 'pizza',\n",
       " 'joke': 'Why did the pizza go to the doctor? Because it had too many toppings and was feeling saucy!',\n",
       " 'explanation': 'This joke plays on the idea of a pizza needing to see a doctor because it has \"too many toppings\" and is \"feeling saucy.\" In reality, pizzas are inanimate objects and cannot feel anything or go to the doctor. The joke is meant to be funny because it personifies the pizza and gives it human-like qualities, which is unexpected and silly. The play on words with \"feeling saucy\" also adds humor to the punchline.'}"
      ]
     },
     "execution_count": 7,
     "metadata": {},
     "output_type": "execute_result"
    }
   ],
   "source": [
    "config1 = {\"configurable\": {\"thread_id\": \"1\"}}\n",
    "workflow.invoke({'topic':'pizza'}, config=config1)"
   ]
  },
  {
   "cell_type": "code",
   "execution_count": 8,
   "id": "55cdb850",
   "metadata": {},
   "outputs": [
    {
     "data": {
      "text/plain": [
       "StateSnapshot(values={'topic': 'pizza', 'joke': 'Why did the pizza go to the doctor? Because it had too many toppings and was feeling saucy!', 'explanation': 'This joke plays on the idea of a pizza needing to see a doctor because it has \"too many toppings\" and is \"feeling saucy.\" In reality, pizzas are inanimate objects and cannot feel anything or go to the doctor. The joke is meant to be funny because it personifies the pizza and gives it human-like qualities, which is unexpected and silly. The play on words with \"feeling saucy\" also adds humor to the punchline.'}, next=(), config={'configurable': {'thread_id': '1', 'checkpoint_ns': '', 'checkpoint_id': '1f089957-681d-6133-8002-48bbc6b15038'}}, metadata={'source': 'loop', 'step': 2, 'parents': {}}, created_at='2025-09-04T13:45:47.983697+00:00', parent_config={'configurable': {'thread_id': '1', 'checkpoint_ns': '', 'checkpoint_id': '1f089957-578a-6661-8001-c22f9e1bcb57'}}, tasks=(), interrupts=())"
      ]
     },
     "execution_count": 8,
     "metadata": {},
     "output_type": "execute_result"
    }
   ],
   "source": [
    "workflow.get_state(config1)"
   ]
  },
  {
   "cell_type": "code",
   "execution_count": 9,
   "id": "ee5a734a",
   "metadata": {},
   "outputs": [
    {
     "data": {
      "text/plain": [
       "[StateSnapshot(values={'topic': 'pizza', 'joke': 'Why did the pizza go to the doctor? Because it had too many toppings and was feeling saucy!', 'explanation': 'This joke plays on the idea of a pizza needing to see a doctor because it has \"too many toppings\" and is \"feeling saucy.\" In reality, pizzas are inanimate objects and cannot feel anything or go to the doctor. The joke is meant to be funny because it personifies the pizza and gives it human-like qualities, which is unexpected and silly. The play on words with \"feeling saucy\" also adds humor to the punchline.'}, next=(), config={'configurable': {'thread_id': '1', 'checkpoint_ns': '', 'checkpoint_id': '1f089957-681d-6133-8002-48bbc6b15038'}}, metadata={'source': 'loop', 'step': 2, 'parents': {}}, created_at='2025-09-04T13:45:47.983697+00:00', parent_config={'configurable': {'thread_id': '1', 'checkpoint_ns': '', 'checkpoint_id': '1f089957-578a-6661-8001-c22f9e1bcb57'}}, tasks=(), interrupts=()),\n",
       " StateSnapshot(values={'topic': 'pizza', 'joke': 'Why did the pizza go to the doctor? Because it had too many toppings and was feeling saucy!'}, next=('generate_explanation',), config={'configurable': {'thread_id': '1', 'checkpoint_ns': '', 'checkpoint_id': '1f089957-578a-6661-8001-c22f9e1bcb57'}}, metadata={'source': 'loop', 'step': 1, 'parents': {}}, created_at='2025-09-04T13:45:46.245897+00:00', parent_config={'configurable': {'thread_id': '1', 'checkpoint_ns': '', 'checkpoint_id': '1f089957-4a7c-6703-8000-0413572d0027'}}, tasks=(PregelTask(id='fcabbf43-79e0-c292-3e4e-9c4dd6610ff3', name='generate_explanation', path=('__pregel_pull', 'generate_explanation'), error=None, interrupts=(), state=None, result={'explanation': 'This joke plays on the idea of a pizza needing to see a doctor because it has \"too many toppings\" and is \"feeling saucy.\" In reality, pizzas are inanimate objects and cannot feel anything or go to the doctor. The joke is meant to be funny because it personifies the pizza and gives it human-like qualities, which is unexpected and silly. The play on words with \"feeling saucy\" also adds humor to the punchline.'}),), interrupts=()),\n",
       " StateSnapshot(values={'topic': 'pizza'}, next=('generate_joke',), config={'configurable': {'thread_id': '1', 'checkpoint_ns': '', 'checkpoint_id': '1f089957-4a7c-6703-8000-0413572d0027'}}, metadata={'source': 'loop', 'step': 0, 'parents': {}}, created_at='2025-09-04T13:45:44.877030+00:00', parent_config={'configurable': {'thread_id': '1', 'checkpoint_ns': '', 'checkpoint_id': '1f089957-4a77-6f1c-bfff-e7a5e5d17bcc'}}, tasks=(PregelTask(id='c21ddef7-06f4-3a3c-80fa-e343d90ecd51', name='generate_joke', path=('__pregel_pull', 'generate_joke'), error=None, interrupts=(), state=None, result={'joke': 'Why did the pizza go to the doctor? Because it had too many toppings and was feeling saucy!'}),), interrupts=()),\n",
       " StateSnapshot(values={}, next=('__start__',), config={'configurable': {'thread_id': '1', 'checkpoint_ns': '', 'checkpoint_id': '1f089957-4a77-6f1c-bfff-e7a5e5d17bcc'}}, metadata={'source': 'input', 'step': -1, 'parents': {}}, created_at='2025-09-04T13:45:44.875189+00:00', parent_config=None, tasks=(PregelTask(id='c856af79-5088-a892-b813-01581552e0b5', name='__start__', path=('__pregel_pull', '__start__'), error=None, interrupts=(), state=None, result={'topic': 'pizza'}),), interrupts=())]"
      ]
     },
     "execution_count": 9,
     "metadata": {},
     "output_type": "execute_result"
    }
   ],
   "source": [
    "list(workflow.get_state_history(config1))"
   ]
  },
  {
   "cell_type": "code",
   "execution_count": 10,
   "id": "31badac3",
   "metadata": {},
   "outputs": [
    {
     "data": {
      "text/plain": [
       "{'topic': 'pasta',\n",
       " 'joke': 'Why did the pasta chef go to therapy? \\nBecause he had too much emotional baggage-gini!',\n",
       " 'explanation': 'This joke plays on the double meaning of \"baggage.\" In the context of pasta, \"baggage\" refers to the type of noodle, while in the context of therapy, \"baggage\" refers to emotional issues or trauma. The joke suggests that the pasta chef went to therapy because he had too much emotional \"baggage-gini,\" a play on the word \"fettuccini.\" This humorous twist on the familiar term \"emotional baggage\" adds a lighthearted and punny element to the joke.'}"
      ]
     },
     "execution_count": 10,
     "metadata": {},
     "output_type": "execute_result"
    }
   ],
   "source": [
    "config2 = {\"configurable\": {\"thread_id\": \"2\"}}\n",
    "workflow.invoke({'topic':'pasta'}, config=config2)"
   ]
  },
  {
   "cell_type": "code",
   "execution_count": 11,
   "id": "ce437dd7",
   "metadata": {},
   "outputs": [
    {
     "data": {
      "text/plain": [
       "StateSnapshot(values={'topic': 'pizza', 'joke': 'Why did the pizza go to the doctor? Because it had too many toppings and was feeling saucy!', 'explanation': 'This joke plays on the idea of a pizza needing to see a doctor because it has \"too many toppings\" and is \"feeling saucy.\" In reality, pizzas are inanimate objects and cannot feel anything or go to the doctor. The joke is meant to be funny because it personifies the pizza and gives it human-like qualities, which is unexpected and silly. The play on words with \"feeling saucy\" also adds humor to the punchline.'}, next=(), config={'configurable': {'thread_id': '1', 'checkpoint_ns': '', 'checkpoint_id': '1f089957-681d-6133-8002-48bbc6b15038'}}, metadata={'source': 'loop', 'step': 2, 'parents': {}}, created_at='2025-09-04T13:45:47.983697+00:00', parent_config={'configurable': {'thread_id': '1', 'checkpoint_ns': '', 'checkpoint_id': '1f089957-578a-6661-8001-c22f9e1bcb57'}}, tasks=(), interrupts=())"
      ]
     },
     "execution_count": 11,
     "metadata": {},
     "output_type": "execute_result"
    }
   ],
   "source": [
    "workflow.get_state(config1)"
   ]
  },
  {
   "cell_type": "code",
   "execution_count": 17,
   "id": "98ef62b3",
   "metadata": {},
   "outputs": [
    {
     "data": {
      "text/plain": [
       "[StateSnapshot(values={'topic': 'pasta', 'joke': 'Why did the pasta chef go to therapy? \\nBecause he had too much emotional baggage-gini!', 'explanation': 'This joke plays on the double meaning of \"baggage.\" In the context of pasta, \"baggage\" refers to the type of noodle, while in the context of therapy, \"baggage\" refers to emotional issues or trauma. The joke suggests that the pasta chef went to therapy because he had too much emotional \"baggage-gini,\" a play on the word \"fettuccini.\" This humorous twist on the familiar term \"emotional baggage\" adds a lighthearted and punny element to the joke.'}, next=(), config={'configurable': {'thread_id': '2', 'checkpoint_ns': '', 'checkpoint_id': '1f089965-059b-6a36-8002-8035d5f8e767'}}, metadata={'source': 'loop', 'step': 2, 'parents': {}}, created_at='2025-09-04T13:51:53.464274+00:00', parent_config={'configurable': {'thread_id': '2', 'checkpoint_ns': '', 'checkpoint_id': '1f089964-f2bc-6515-8001-47fdd6425959'}}, tasks=(), interrupts=()),\n",
       " StateSnapshot(values={'topic': 'pasta', 'joke': 'Why did the pasta chef go to therapy? \\nBecause he had too much emotional baggage-gini!'}, next=('generate_explanation',), config={'configurable': {'thread_id': '2', 'checkpoint_ns': '', 'checkpoint_id': '1f089964-f2bc-6515-8001-47fdd6425959'}}, metadata={'source': 'loop', 'step': 1, 'parents': {}}, created_at='2025-09-04T13:51:51.485365+00:00', parent_config={'configurable': {'thread_id': '2', 'checkpoint_ns': '', 'checkpoint_id': '1f089964-e152-6656-8000-f356a4e2d38d'}}, tasks=(PregelTask(id='f80d355b-afa6-f4fb-29ae-a399855e918f', name='generate_explanation', path=('__pregel_pull', 'generate_explanation'), error=None, interrupts=(), state=None, result={'explanation': 'This joke plays on the double meaning of \"baggage.\" In the context of pasta, \"baggage\" refers to the type of noodle, while in the context of therapy, \"baggage\" refers to emotional issues or trauma. The joke suggests that the pasta chef went to therapy because he had too much emotional \"baggage-gini,\" a play on the word \"fettuccini.\" This humorous twist on the familiar term \"emotional baggage\" adds a lighthearted and punny element to the joke.'}),), interrupts=()),\n",
       " StateSnapshot(values={'topic': 'pasta'}, next=('generate_joke',), config={'configurable': {'thread_id': '2', 'checkpoint_ns': '', 'checkpoint_id': '1f089964-e152-6656-8000-f356a4e2d38d'}}, metadata={'source': 'loop', 'step': 0, 'parents': {}}, created_at='2025-09-04T13:51:49.659400+00:00', parent_config={'configurable': {'thread_id': '2', 'checkpoint_ns': '', 'checkpoint_id': '1f089964-e14f-6e9b-bfff-20482407f416'}}, tasks=(PregelTask(id='e88fc63f-4476-aa75-853a-9fea3551a2bd', name='generate_joke', path=('__pregel_pull', 'generate_joke'), error=None, interrupts=(), state=None, result={'joke': 'Why did the pasta chef go to therapy? \\nBecause he had too much emotional baggage-gini!'}),), interrupts=()),\n",
       " StateSnapshot(values={}, next=('__start__',), config={'configurable': {'thread_id': '2', 'checkpoint_ns': '', 'checkpoint_id': '1f089964-e14f-6e9b-bfff-20482407f416'}}, metadata={'source': 'input', 'step': -1, 'parents': {}}, created_at='2025-09-04T13:51:49.658383+00:00', parent_config=None, tasks=(PregelTask(id='b9fc0a39-67d8-d71b-057d-a8f4a35cae35', name='__start__', path=('__pregel_pull', '__start__'), error=None, interrupts=(), state=None, result={'topic': 'pasta'}),), interrupts=())]"
      ]
     },
     "execution_count": 17,
     "metadata": {},
     "output_type": "execute_result"
    }
   ],
   "source": [
    "list(workflow.get_state_history(config2))"
   ]
  },
  {
   "cell_type": "markdown",
   "id": "79f9d47d",
   "metadata": {},
   "source": [
    "# Time Travel"
   ]
  },
  {
   "cell_type": "code",
   "execution_count": 21,
   "id": "68ed9226",
   "metadata": {},
   "outputs": [
    {
     "data": {
      "text/plain": [
       "StateSnapshot(values={'topic': 'pasta'}, next=('generate_joke',), config={'configurable': {'thread_id': '2', 'checkpoint_id': '1f089964-e152-6656-8000-f356a4e2d38d'}}, metadata={'source': 'loop', 'step': 0, 'parents': {}}, created_at='2025-09-04T13:51:49.659400+00:00', parent_config={'configurable': {'thread_id': '2', 'checkpoint_ns': '', 'checkpoint_id': '1f089964-e14f-6e9b-bfff-20482407f416'}}, tasks=(PregelTask(id='e88fc63f-4476-aa75-853a-9fea3551a2bd', name='generate_joke', path=('__pregel_pull', 'generate_joke'), error=None, interrupts=(), state=None, result={'joke': 'Why did the pasta chef go to therapy? \\nBecause he had too much emotional baggage-gini!'}),), interrupts=())"
      ]
     },
     "execution_count": 21,
     "metadata": {},
     "output_type": "execute_result"
    }
   ],
   "source": [
    "workflow.get_state({\"configurable\": {\"thread_id\": \"2\", \"checkpoint_id\": \"1f089964-e152-6656-8000-f356a4e2d38d\"}})"
   ]
  },
  {
   "cell_type": "code",
   "execution_count": 22,
   "id": "dcace4d3",
   "metadata": {},
   "outputs": [
    {
     "data": {
      "text/plain": [
       "{'topic': 'pasta',\n",
       " 'joke': 'Why did the spaghetti break up with the linguine? Because it heard she was alfredo-ing around!',\n",
       " 'explanation': 'This joke plays on the similarity between the word \"alfredo\" and the phrase \"all for doing.\" The joke suggests that the spaghetti broke up with the linguine because it heard she was engaging in promiscuous behavior or \"alfredo-ing around,\" which sounds like the phrase \"all for doing around.\" It\\'s a pun-based joke that relies on wordplay for its humor.'}"
      ]
     },
     "execution_count": 22,
     "metadata": {},
     "output_type": "execute_result"
    }
   ],
   "source": [
    "workflow.invoke(None, {\"configurable\": {\"thread_id\": \"2\", \"checkpoint_id\": \"1f089964-e152-6656-8000-f356a4e2d38d\"}})"
   ]
  },
  {
   "cell_type": "code",
   "execution_count": 23,
   "id": "2d00729b",
   "metadata": {},
   "outputs": [
    {
     "data": {
      "text/plain": [
       "[StateSnapshot(values={'topic': 'pasta', 'joke': 'Why did the spaghetti break up with the linguine? Because it heard she was alfredo-ing around!', 'explanation': 'This joke plays on the similarity between the word \"alfredo\" and the phrase \"all for doing.\" The joke suggests that the spaghetti broke up with the linguine because it heard she was engaging in promiscuous behavior or \"alfredo-ing around,\" which sounds like the phrase \"all for doing around.\" It\\'s a pun-based joke that relies on wordplay for its humor.'}, next=(), config={'configurable': {'thread_id': '2', 'checkpoint_ns': '', 'checkpoint_id': '1f08999a-21c1-666f-8002-a0f036768297'}}, metadata={'source': 'loop', 'step': 2, 'parents': {}}, created_at='2025-09-04T14:15:39.123671+00:00', parent_config={'configurable': {'thread_id': '2', 'checkpoint_ns': '', 'checkpoint_id': '1f08999a-0678-6628-8001-716fee548f60'}}, tasks=(), interrupts=()),\n",
       " StateSnapshot(values={'topic': 'pasta', 'joke': 'Why did the spaghetti break up with the linguine? Because it heard she was alfredo-ing around!'}, next=('generate_explanation',), config={'configurable': {'thread_id': '2', 'checkpoint_ns': '', 'checkpoint_id': '1f08999a-0678-6628-8001-716fee548f60'}}, metadata={'source': 'loop', 'step': 1, 'parents': {}}, created_at='2025-09-04T14:15:36.262608+00:00', parent_config={'configurable': {'thread_id': '2', 'checkpoint_ns': '', 'checkpoint_id': '1f089964-e152-6656-8000-f356a4e2d38d'}}, tasks=(PregelTask(id='e99beb00-d35c-af30-af1f-157e841f35e2', name='generate_explanation', path=('__pregel_pull', 'generate_explanation'), error=None, interrupts=(), state=None, result={'explanation': 'This joke plays on the similarity between the word \"alfredo\" and the phrase \"all for doing.\" The joke suggests that the spaghetti broke up with the linguine because it heard she was engaging in promiscuous behavior or \"alfredo-ing around,\" which sounds like the phrase \"all for doing around.\" It\\'s a pun-based joke that relies on wordplay for its humor.'}),), interrupts=()),\n",
       " StateSnapshot(values={'topic': 'pasta', 'joke': 'Why did the pasta chef go to therapy? \\nBecause he had too much emotional baggage-gini!', 'explanation': 'This joke plays on the double meaning of \"baggage.\" In the context of pasta, \"baggage\" refers to the type of noodle, while in the context of therapy, \"baggage\" refers to emotional issues or trauma. The joke suggests that the pasta chef went to therapy because he had too much emotional \"baggage-gini,\" a play on the word \"fettuccini.\" This humorous twist on the familiar term \"emotional baggage\" adds a lighthearted and punny element to the joke.'}, next=(), config={'configurable': {'thread_id': '2', 'checkpoint_ns': '', 'checkpoint_id': '1f089965-059b-6a36-8002-8035d5f8e767'}}, metadata={'source': 'loop', 'step': 2, 'parents': {}}, created_at='2025-09-04T13:51:53.464274+00:00', parent_config={'configurable': {'thread_id': '2', 'checkpoint_ns': '', 'checkpoint_id': '1f089964-f2bc-6515-8001-47fdd6425959'}}, tasks=(), interrupts=()),\n",
       " StateSnapshot(values={'topic': 'pasta', 'joke': 'Why did the pasta chef go to therapy? \\nBecause he had too much emotional baggage-gini!'}, next=('generate_explanation',), config={'configurable': {'thread_id': '2', 'checkpoint_ns': '', 'checkpoint_id': '1f089964-f2bc-6515-8001-47fdd6425959'}}, metadata={'source': 'loop', 'step': 1, 'parents': {}}, created_at='2025-09-04T13:51:51.485365+00:00', parent_config={'configurable': {'thread_id': '2', 'checkpoint_ns': '', 'checkpoint_id': '1f089964-e152-6656-8000-f356a4e2d38d'}}, tasks=(PregelTask(id='f80d355b-afa6-f4fb-29ae-a399855e918f', name='generate_explanation', path=('__pregel_pull', 'generate_explanation'), error=None, interrupts=(), state=None, result={'explanation': 'This joke plays on the double meaning of \"baggage.\" In the context of pasta, \"baggage\" refers to the type of noodle, while in the context of therapy, \"baggage\" refers to emotional issues or trauma. The joke suggests that the pasta chef went to therapy because he had too much emotional \"baggage-gini,\" a play on the word \"fettuccini.\" This humorous twist on the familiar term \"emotional baggage\" adds a lighthearted and punny element to the joke.'}),), interrupts=()),\n",
       " StateSnapshot(values={'topic': 'pasta'}, next=('generate_joke',), config={'configurable': {'thread_id': '2', 'checkpoint_ns': '', 'checkpoint_id': '1f089964-e152-6656-8000-f356a4e2d38d'}}, metadata={'source': 'loop', 'step': 0, 'parents': {}}, created_at='2025-09-04T13:51:49.659400+00:00', parent_config={'configurable': {'thread_id': '2', 'checkpoint_ns': '', 'checkpoint_id': '1f089964-e14f-6e9b-bfff-20482407f416'}}, tasks=(PregelTask(id='e88fc63f-4476-aa75-853a-9fea3551a2bd', name='generate_joke', path=('__pregel_pull', 'generate_joke'), error=None, interrupts=(), state=None, result={'joke': 'Why did the pasta chef go to therapy? \\nBecause he had too much emotional baggage-gini!'}),), interrupts=()),\n",
       " StateSnapshot(values={}, next=('__start__',), config={'configurable': {'thread_id': '2', 'checkpoint_ns': '', 'checkpoint_id': '1f089964-e14f-6e9b-bfff-20482407f416'}}, metadata={'source': 'input', 'step': -1, 'parents': {}}, created_at='2025-09-04T13:51:49.658383+00:00', parent_config=None, tasks=(PregelTask(id='b9fc0a39-67d8-d71b-057d-a8f4a35cae35', name='__start__', path=('__pregel_pull', '__start__'), error=None, interrupts=(), state=None, result={'topic': 'pasta'}),), interrupts=())]"
      ]
     },
     "execution_count": 23,
     "metadata": {},
     "output_type": "execute_result"
    }
   ],
   "source": [
    "list(workflow.get_state_history(config2))"
   ]
  },
  {
   "cell_type": "markdown",
   "id": "b5fe772c",
   "metadata": {},
   "source": [
    "# Updating State"
   ]
  },
  {
   "cell_type": "code",
   "execution_count": 24,
   "id": "4b8591f6",
   "metadata": {},
   "outputs": [
    {
     "data": {
      "text/plain": [
       "{'configurable': {'thread_id': '2',\n",
       "  'checkpoint_ns': '',\n",
       "  'checkpoint_id': '1f0899a0-75de-6862-8001-38c59511d2f7'}}"
      ]
     },
     "execution_count": 24,
     "metadata": {},
     "output_type": "execute_result"
    }
   ],
   "source": [
    "workflow.update_state({\"configurable\": {\"thread_id\": \"2\", \"checkpoint_id\": \"1f089964-e152-6656-8000-f356a4e2d38d\", \"checkpoint_ns\": \"\"}}, {'topic':'samosa'})"
   ]
  },
  {
   "cell_type": "code",
   "execution_count": 26,
   "id": "2147a62d",
   "metadata": {},
   "outputs": [
    {
     "data": {
      "text/plain": [
       "[StateSnapshot(values={'topic': 'samosa'}, next=('generate_joke',), config={'configurable': {'thread_id': '2', 'checkpoint_ns': '', 'checkpoint_id': '1f0899a0-75de-6862-8001-38c59511d2f7'}}, metadata={'source': 'update', 'step': 1, 'parents': {}}, created_at='2025-09-04T14:18:29.004912+00:00', parent_config={'configurable': {'thread_id': '2', 'checkpoint_ns': '', 'checkpoint_id': '1f089964-e152-6656-8000-f356a4e2d38d'}}, tasks=(PregelTask(id='053a1c27-0341-1c4c-8a0c-c0d39caab70c', name='generate_joke', path=('__pregel_pull', 'generate_joke'), error=None, interrupts=(), state=None, result=None),), interrupts=()),\n",
       " StateSnapshot(values={'topic': 'pasta', 'joke': 'Why did the spaghetti break up with the linguine? Because it heard she was alfredo-ing around!', 'explanation': 'This joke plays on the similarity between the word \"alfredo\" and the phrase \"all for doing.\" The joke suggests that the spaghetti broke up with the linguine because it heard she was engaging in promiscuous behavior or \"alfredo-ing around,\" which sounds like the phrase \"all for doing around.\" It\\'s a pun-based joke that relies on wordplay for its humor.'}, next=(), config={'configurable': {'thread_id': '2', 'checkpoint_ns': '', 'checkpoint_id': '1f08999a-21c1-666f-8002-a0f036768297'}}, metadata={'source': 'loop', 'step': 2, 'parents': {}}, created_at='2025-09-04T14:15:39.123671+00:00', parent_config={'configurable': {'thread_id': '2', 'checkpoint_ns': '', 'checkpoint_id': '1f08999a-0678-6628-8001-716fee548f60'}}, tasks=(), interrupts=()),\n",
       " StateSnapshot(values={'topic': 'pasta', 'joke': 'Why did the spaghetti break up with the linguine? Because it heard she was alfredo-ing around!'}, next=('generate_explanation',), config={'configurable': {'thread_id': '2', 'checkpoint_ns': '', 'checkpoint_id': '1f08999a-0678-6628-8001-716fee548f60'}}, metadata={'source': 'loop', 'step': 1, 'parents': {}}, created_at='2025-09-04T14:15:36.262608+00:00', parent_config={'configurable': {'thread_id': '2', 'checkpoint_ns': '', 'checkpoint_id': '1f089964-e152-6656-8000-f356a4e2d38d'}}, tasks=(PregelTask(id='e99beb00-d35c-af30-af1f-157e841f35e2', name='generate_explanation', path=('__pregel_pull', 'generate_explanation'), error=None, interrupts=(), state=None, result={'explanation': 'This joke plays on the similarity between the word \"alfredo\" and the phrase \"all for doing.\" The joke suggests that the spaghetti broke up with the linguine because it heard she was engaging in promiscuous behavior or \"alfredo-ing around,\" which sounds like the phrase \"all for doing around.\" It\\'s a pun-based joke that relies on wordplay for its humor.'}),), interrupts=()),\n",
       " StateSnapshot(values={'topic': 'pasta', 'joke': 'Why did the pasta chef go to therapy? \\nBecause he had too much emotional baggage-gini!', 'explanation': 'This joke plays on the double meaning of \"baggage.\" In the context of pasta, \"baggage\" refers to the type of noodle, while in the context of therapy, \"baggage\" refers to emotional issues or trauma. The joke suggests that the pasta chef went to therapy because he had too much emotional \"baggage-gini,\" a play on the word \"fettuccini.\" This humorous twist on the familiar term \"emotional baggage\" adds a lighthearted and punny element to the joke.'}, next=(), config={'configurable': {'thread_id': '2', 'checkpoint_ns': '', 'checkpoint_id': '1f089965-059b-6a36-8002-8035d5f8e767'}}, metadata={'source': 'loop', 'step': 2, 'parents': {}}, created_at='2025-09-04T13:51:53.464274+00:00', parent_config={'configurable': {'thread_id': '2', 'checkpoint_ns': '', 'checkpoint_id': '1f089964-f2bc-6515-8001-47fdd6425959'}}, tasks=(), interrupts=()),\n",
       " StateSnapshot(values={'topic': 'pasta', 'joke': 'Why did the pasta chef go to therapy? \\nBecause he had too much emotional baggage-gini!'}, next=('generate_explanation',), config={'configurable': {'thread_id': '2', 'checkpoint_ns': '', 'checkpoint_id': '1f089964-f2bc-6515-8001-47fdd6425959'}}, metadata={'source': 'loop', 'step': 1, 'parents': {}}, created_at='2025-09-04T13:51:51.485365+00:00', parent_config={'configurable': {'thread_id': '2', 'checkpoint_ns': '', 'checkpoint_id': '1f089964-e152-6656-8000-f356a4e2d38d'}}, tasks=(PregelTask(id='f80d355b-afa6-f4fb-29ae-a399855e918f', name='generate_explanation', path=('__pregel_pull', 'generate_explanation'), error=None, interrupts=(), state=None, result={'explanation': 'This joke plays on the double meaning of \"baggage.\" In the context of pasta, \"baggage\" refers to the type of noodle, while in the context of therapy, \"baggage\" refers to emotional issues or trauma. The joke suggests that the pasta chef went to therapy because he had too much emotional \"baggage-gini,\" a play on the word \"fettuccini.\" This humorous twist on the familiar term \"emotional baggage\" adds a lighthearted and punny element to the joke.'}),), interrupts=()),\n",
       " StateSnapshot(values={'topic': 'pasta'}, next=('generate_joke',), config={'configurable': {'thread_id': '2', 'checkpoint_ns': '', 'checkpoint_id': '1f089964-e152-6656-8000-f356a4e2d38d'}}, metadata={'source': 'loop', 'step': 0, 'parents': {}}, created_at='2025-09-04T13:51:49.659400+00:00', parent_config={'configurable': {'thread_id': '2', 'checkpoint_ns': '', 'checkpoint_id': '1f089964-e14f-6e9b-bfff-20482407f416'}}, tasks=(PregelTask(id='e88fc63f-4476-aa75-853a-9fea3551a2bd', name='generate_joke', path=('__pregel_pull', 'generate_joke'), error=None, interrupts=(), state=None, result={'joke': 'Why did the pasta chef go to therapy? \\nBecause he had too much emotional baggage-gini!'}),), interrupts=()),\n",
       " StateSnapshot(values={}, next=('__start__',), config={'configurable': {'thread_id': '2', 'checkpoint_ns': '', 'checkpoint_id': '1f089964-e14f-6e9b-bfff-20482407f416'}}, metadata={'source': 'input', 'step': -1, 'parents': {}}, created_at='2025-09-04T13:51:49.658383+00:00', parent_config=None, tasks=(PregelTask(id='b9fc0a39-67d8-d71b-057d-a8f4a35cae35', name='__start__', path=('__pregel_pull', '__start__'), error=None, interrupts=(), state=None, result={'topic': 'pasta'}),), interrupts=())]"
      ]
     },
     "execution_count": 26,
     "metadata": {},
     "output_type": "execute_result"
    }
   ],
   "source": [
    "list(workflow.get_state_history(config2))"
   ]
  },
  {
   "cell_type": "code",
   "execution_count": 28,
   "id": "dd44458f",
   "metadata": {},
   "outputs": [
    {
     "data": {
      "text/plain": [
       "{'topic': 'samosa',\n",
       " 'joke': 'Why did the samosa go to therapy?\\nBecause it had too many layers to unravel!',\n",
       " 'explanation': 'This joke plays on the idea of the samosa, a popular Indian snack, going to therapy like a person would. The punchline, \"Because it had too many layers to unravel,\" combines the literal layers of a samosa (made with multiple layers of dough and filling) with the metaphorical idea of someone having emotional or psychological layers that need to be unpacked in therapy. The humor comes from the unexpected comparison and the word play on \"layers.\"'}"
      ]
     },
     "execution_count": 28,
     "metadata": {},
     "output_type": "execute_result"
    }
   ],
   "source": [
    "workflow.invoke(None, {\"configurable\": {\"thread_id\": \"2\", \"checkpoint_id\": \"1f0899a0-75de-6862-8001-38c59511d2f7\"}})"
   ]
  },
  {
   "cell_type": "code",
   "execution_count": 29,
   "id": "e534a8a7",
   "metadata": {},
   "outputs": [
    {
     "data": {
      "text/plain": [
       "[StateSnapshot(values={'topic': 'samosa', 'joke': 'Why did the samosa go to therapy?\\nBecause it had too many layers to unravel!', 'explanation': 'This joke plays on the idea of the samosa, a popular Indian snack, going to therapy like a person would. The punchline, \"Because it had too many layers to unravel,\" combines the literal layers of a samosa (made with multiple layers of dough and filling) with the metaphorical idea of someone having emotional or psychological layers that need to be unpacked in therapy. The humor comes from the unexpected comparison and the word play on \"layers.\"'}, next=(), config={'configurable': {'thread_id': '2', 'checkpoint_ns': '', 'checkpoint_id': '1f0899ab-a7fa-67c2-8003-ddbcba6904fa'}}, metadata={'source': 'loop', 'step': 3, 'parents': {}}, created_at='2025-09-04T14:23:29.538246+00:00', parent_config={'configurable': {'thread_id': '2', 'checkpoint_ns': '', 'checkpoint_id': '1f0899ab-91cb-6c43-8002-365398158d0e'}}, tasks=(), interrupts=()),\n",
       " StateSnapshot(values={'topic': 'samosa', 'joke': 'Why did the samosa go to therapy?\\nBecause it had too many layers to unravel!'}, next=('generate_explanation',), config={'configurable': {'thread_id': '2', 'checkpoint_ns': '', 'checkpoint_id': '1f0899ab-91cb-6c43-8002-365398158d0e'}}, metadata={'source': 'loop', 'step': 2, 'parents': {}}, created_at='2025-09-04T14:23:27.212243+00:00', parent_config={'configurable': {'thread_id': '2', 'checkpoint_ns': '', 'checkpoint_id': '1f0899a0-75de-6862-8001-38c59511d2f7'}}, tasks=(PregelTask(id='47e3940b-80d1-1b96-ee6b-874468bd6b37', name='generate_explanation', path=('__pregel_pull', 'generate_explanation'), error=None, interrupts=(), state=None, result={'explanation': 'This joke plays on the idea of the samosa, a popular Indian snack, going to therapy like a person would. The punchline, \"Because it had too many layers to unravel,\" combines the literal layers of a samosa (made with multiple layers of dough and filling) with the metaphorical idea of someone having emotional or psychological layers that need to be unpacked in therapy. The humor comes from the unexpected comparison and the word play on \"layers.\"'}),), interrupts=()),\n",
       " StateSnapshot(values={'topic': 'samosa'}, next=('generate_joke',), config={'configurable': {'thread_id': '2', 'checkpoint_ns': '', 'checkpoint_id': '1f0899a0-75de-6862-8001-38c59511d2f7'}}, metadata={'source': 'update', 'step': 1, 'parents': {}}, created_at='2025-09-04T14:18:29.004912+00:00', parent_config={'configurable': {'thread_id': '2', 'checkpoint_ns': '', 'checkpoint_id': '1f089964-e152-6656-8000-f356a4e2d38d'}}, tasks=(PregelTask(id='053a1c27-0341-1c4c-8a0c-c0d39caab70c', name='generate_joke', path=('__pregel_pull', 'generate_joke'), error=None, interrupts=(), state=None, result={'joke': 'Why did the samosa go to therapy?\\nBecause it had too many layers to unravel!'}),), interrupts=()),\n",
       " StateSnapshot(values={'topic': 'pasta', 'joke': 'Why did the spaghetti break up with the linguine? Because it heard she was alfredo-ing around!', 'explanation': 'This joke plays on the similarity between the word \"alfredo\" and the phrase \"all for doing.\" The joke suggests that the spaghetti broke up with the linguine because it heard she was engaging in promiscuous behavior or \"alfredo-ing around,\" which sounds like the phrase \"all for doing around.\" It\\'s a pun-based joke that relies on wordplay for its humor.'}, next=(), config={'configurable': {'thread_id': '2', 'checkpoint_ns': '', 'checkpoint_id': '1f08999a-21c1-666f-8002-a0f036768297'}}, metadata={'source': 'loop', 'step': 2, 'parents': {}}, created_at='2025-09-04T14:15:39.123671+00:00', parent_config={'configurable': {'thread_id': '2', 'checkpoint_ns': '', 'checkpoint_id': '1f08999a-0678-6628-8001-716fee548f60'}}, tasks=(), interrupts=()),\n",
       " StateSnapshot(values={'topic': 'pasta', 'joke': 'Why did the spaghetti break up with the linguine? Because it heard she was alfredo-ing around!'}, next=('generate_explanation',), config={'configurable': {'thread_id': '2', 'checkpoint_ns': '', 'checkpoint_id': '1f08999a-0678-6628-8001-716fee548f60'}}, metadata={'source': 'loop', 'step': 1, 'parents': {}}, created_at='2025-09-04T14:15:36.262608+00:00', parent_config={'configurable': {'thread_id': '2', 'checkpoint_ns': '', 'checkpoint_id': '1f089964-e152-6656-8000-f356a4e2d38d'}}, tasks=(PregelTask(id='e99beb00-d35c-af30-af1f-157e841f35e2', name='generate_explanation', path=('__pregel_pull', 'generate_explanation'), error=None, interrupts=(), state=None, result={'explanation': 'This joke plays on the similarity between the word \"alfredo\" and the phrase \"all for doing.\" The joke suggests that the spaghetti broke up with the linguine because it heard she was engaging in promiscuous behavior or \"alfredo-ing around,\" which sounds like the phrase \"all for doing around.\" It\\'s a pun-based joke that relies on wordplay for its humor.'}),), interrupts=()),\n",
       " StateSnapshot(values={'topic': 'pasta', 'joke': 'Why did the pasta chef go to therapy? \\nBecause he had too much emotional baggage-gini!', 'explanation': 'This joke plays on the double meaning of \"baggage.\" In the context of pasta, \"baggage\" refers to the type of noodle, while in the context of therapy, \"baggage\" refers to emotional issues or trauma. The joke suggests that the pasta chef went to therapy because he had too much emotional \"baggage-gini,\" a play on the word \"fettuccini.\" This humorous twist on the familiar term \"emotional baggage\" adds a lighthearted and punny element to the joke.'}, next=(), config={'configurable': {'thread_id': '2', 'checkpoint_ns': '', 'checkpoint_id': '1f089965-059b-6a36-8002-8035d5f8e767'}}, metadata={'source': 'loop', 'step': 2, 'parents': {}}, created_at='2025-09-04T13:51:53.464274+00:00', parent_config={'configurable': {'thread_id': '2', 'checkpoint_ns': '', 'checkpoint_id': '1f089964-f2bc-6515-8001-47fdd6425959'}}, tasks=(), interrupts=()),\n",
       " StateSnapshot(values={'topic': 'pasta', 'joke': 'Why did the pasta chef go to therapy? \\nBecause he had too much emotional baggage-gini!'}, next=('generate_explanation',), config={'configurable': {'thread_id': '2', 'checkpoint_ns': '', 'checkpoint_id': '1f089964-f2bc-6515-8001-47fdd6425959'}}, metadata={'source': 'loop', 'step': 1, 'parents': {}}, created_at='2025-09-04T13:51:51.485365+00:00', parent_config={'configurable': {'thread_id': '2', 'checkpoint_ns': '', 'checkpoint_id': '1f089964-e152-6656-8000-f356a4e2d38d'}}, tasks=(PregelTask(id='f80d355b-afa6-f4fb-29ae-a399855e918f', name='generate_explanation', path=('__pregel_pull', 'generate_explanation'), error=None, interrupts=(), state=None, result={'explanation': 'This joke plays on the double meaning of \"baggage.\" In the context of pasta, \"baggage\" refers to the type of noodle, while in the context of therapy, \"baggage\" refers to emotional issues or trauma. The joke suggests that the pasta chef went to therapy because he had too much emotional \"baggage-gini,\" a play on the word \"fettuccini.\" This humorous twist on the familiar term \"emotional baggage\" adds a lighthearted and punny element to the joke.'}),), interrupts=()),\n",
       " StateSnapshot(values={'topic': 'pasta'}, next=('generate_joke',), config={'configurable': {'thread_id': '2', 'checkpoint_ns': '', 'checkpoint_id': '1f089964-e152-6656-8000-f356a4e2d38d'}}, metadata={'source': 'loop', 'step': 0, 'parents': {}}, created_at='2025-09-04T13:51:49.659400+00:00', parent_config={'configurable': {'thread_id': '2', 'checkpoint_ns': '', 'checkpoint_id': '1f089964-e14f-6e9b-bfff-20482407f416'}}, tasks=(PregelTask(id='e88fc63f-4476-aa75-853a-9fea3551a2bd', name='generate_joke', path=('__pregel_pull', 'generate_joke'), error=None, interrupts=(), state=None, result={'joke': 'Why did the pasta chef go to therapy? \\nBecause he had too much emotional baggage-gini!'}),), interrupts=()),\n",
       " StateSnapshot(values={}, next=('__start__',), config={'configurable': {'thread_id': '2', 'checkpoint_ns': '', 'checkpoint_id': '1f089964-e14f-6e9b-bfff-20482407f416'}}, metadata={'source': 'input', 'step': -1, 'parents': {}}, created_at='2025-09-04T13:51:49.658383+00:00', parent_config=None, tasks=(PregelTask(id='b9fc0a39-67d8-d71b-057d-a8f4a35cae35', name='__start__', path=('__pregel_pull', '__start__'), error=None, interrupts=(), state=None, result={'topic': 'pasta'}),), interrupts=())]"
      ]
     },
     "execution_count": 29,
     "metadata": {},
     "output_type": "execute_result"
    }
   ],
   "source": [
    "list(workflow.get_state_history(config2))"
   ]
  },
  {
   "cell_type": "markdown",
   "id": "0fff8ec9",
   "metadata": {},
   "source": [
    "# Fault Tolerance"
   ]
  },
  {
   "cell_type": "code",
   "execution_count": 30,
   "id": "3c7d887e",
   "metadata": {},
   "outputs": [],
   "source": [
    "from langgraph.graph import StateGraph, END\n",
    "from langgraph.checkpoint.memory import InMemorySaver\n",
    "from typing import TypedDict\n",
    "import time"
   ]
  },
  {
   "cell_type": "code",
   "execution_count": 31,
   "id": "85905823",
   "metadata": {},
   "outputs": [],
   "source": [
    "# 1. Define the state\n",
    "class CrashState(TypedDict):\n",
    "    input: str\n",
    "    step1: str\n",
    "    step2: str"
   ]
  },
  {
   "cell_type": "code",
   "execution_count": 32,
   "id": "20146643",
   "metadata": {},
   "outputs": [],
   "source": [
    "# 2. Define steps\n",
    "def step_1(state: CrashState) -> CrashState:\n",
    "    print(\"✅ Step 1 executed\")\n",
    "    return {\"step1\": \"done\", \"input\": state[\"input\"]}\n",
    "\n",
    "def step_2(state: CrashState) -> CrashState:\n",
    "    print(\"⏳ Step 2 hanging... now manually interrupt from the notebook toolbar (STOP button)\")\n",
    "    time.sleep(1000)  # Simulate long-running hang\n",
    "    return {\"step2\": \"done\"}\n",
    "\n",
    "def step_3(state: CrashState) -> CrashState:\n",
    "    print(\"✅ Step 3 executed\")\n",
    "    return {\"done\": True}"
   ]
  },
  {
   "cell_type": "code",
   "execution_count": 33,
   "id": "c4e3d0d7",
   "metadata": {},
   "outputs": [],
   "source": [
    "# 3. Build the graph\n",
    "builder = StateGraph(CrashState)\n",
    "builder.add_node(\"step_1\", step_1)\n",
    "builder.add_node(\"step_2\", step_2)\n",
    "builder.add_node(\"step_3\", step_3)\n",
    "\n",
    "builder.set_entry_point(\"step_1\")\n",
    "builder.add_edge(\"step_1\", \"step_2\")\n",
    "builder.add_edge(\"step_2\", \"step_3\")\n",
    "builder.add_edge(\"step_3\", END)\n",
    "\n",
    "checkpointer = InMemorySaver()\n",
    "graph = builder.compile(checkpointer=checkpointer)"
   ]
  },
  {
   "cell_type": "code",
   "execution_count": null,
   "id": "cd5c5dc3",
   "metadata": {},
   "outputs": [
    {
     "name": "stdout",
     "output_type": "stream",
     "text": [
      "▶️ Running graph: Please manually interrupt during Step 2...\n",
      "✅ Step 1 executed\n",
      "⏳ Step 2 hanging... now manually interrupt from the notebook toolbar (STOP button)\n"
     ]
    }
   ],
   "source": [
    "try:\n",
    "    print(\"▶️ Running graph: Please manually interrupt during Step 2...\")\n",
    "    graph.invoke({\"input\": \"start\"}, config={\"configurable\": {\"thread_id\": 'thread-1'}})\n",
    "except KeyboardInterrupt:\n",
    "    print(\"❌ Kernel manually interrupted (crash simulated).\")"
   ]
  },
  {
   "cell_type": "code",
   "execution_count": 1,
   "id": "4f81440c",
   "metadata": {},
   "outputs": [
    {
     "name": "stdout",
     "output_type": "stream",
     "text": [
      "\n",
      "🔁 Re-running the graph to demonstrate fault tolerance...\n"
     ]
    },
    {
     "ename": "NameError",
     "evalue": "name 'graph' is not defined",
     "output_type": "error",
     "traceback": [
      "\u001b[31m---------------------------------------------------------------------------\u001b[39m",
      "\u001b[31mNameError\u001b[39m                                 Traceback (most recent call last)",
      "\u001b[36mCell\u001b[39m\u001b[36m \u001b[39m\u001b[32mIn[1]\u001b[39m\u001b[32m, line 3\u001b[39m\n\u001b[32m      1\u001b[39m \u001b[38;5;66;03m# 6. Re-run to show fault-tolerant resume\u001b[39;00m\n\u001b[32m      2\u001b[39m \u001b[38;5;28mprint\u001b[39m(\u001b[33m\"\u001b[39m\u001b[38;5;130;01m\\n\u001b[39;00m\u001b[33m🔁 Re-running the graph to demonstrate fault tolerance...\u001b[39m\u001b[33m\"\u001b[39m)\n\u001b[32m----> \u001b[39m\u001b[32m3\u001b[39m final_state = \u001b[43mgraph\u001b[49m.invoke(\u001b[38;5;28;01mNone\u001b[39;00m, config={\u001b[33m\"\u001b[39m\u001b[33mconfigurable\u001b[39m\u001b[33m\"\u001b[39m: {\u001b[33m\"\u001b[39m\u001b[33mthread_id\u001b[39m\u001b[33m\"\u001b[39m: \u001b[33m'\u001b[39m\u001b[33mthread-1\u001b[39m\u001b[33m'\u001b[39m}})\n\u001b[32m      4\u001b[39m \u001b[38;5;28mprint\u001b[39m(\u001b[33m\"\u001b[39m\u001b[38;5;130;01m\\n\u001b[39;00m\u001b[33m✅ Final State:\u001b[39m\u001b[33m\"\u001b[39m, final_state)\n",
      "\u001b[31mNameError\u001b[39m: name 'graph' is not defined"
     ]
    }
   ],
   "source": [
    "# 6. Re-run to show fault-tolerant resume\n",
    "print(\"\\n🔁 Re-running the graph to demonstrate fault tolerance...\")\n",
    "final_state = graph.invoke(None, config={\"configurable\": {\"thread_id\": 'thread-1'}})\n",
    "print(\"\\n✅ Final State:\", final_state)"
   ]
  },
  {
   "cell_type": "code",
   "execution_count": null,
   "id": "7d5808da",
   "metadata": {},
   "outputs": [],
   "source": [
    "list(graph.get_state_history({\"configurable\": {\"thread_id\": 'thread-1'}}))"
   ]
  },
  {
   "cell_type": "code",
   "execution_count": null,
   "id": "fe572dd8",
   "metadata": {},
   "outputs": [],
   "source": []
  }
 ],
 "metadata": {
  "kernelspec": {
   "display_name": "myenv (3.12.6)",
   "language": "python",
   "name": "python3"
  },
  "language_info": {
   "codemirror_mode": {
    "name": "ipython",
    "version": 3
   },
   "file_extension": ".py",
   "mimetype": "text/x-python",
   "name": "python",
   "nbconvert_exporter": "python",
   "pygments_lexer": "ipython3",
   "version": "3.12.6"
  }
 },
 "nbformat": 4,
 "nbformat_minor": 5
}
