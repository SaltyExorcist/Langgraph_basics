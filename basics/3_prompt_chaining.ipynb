{
 "cells": [
  {
   "cell_type": "code",
   "execution_count": 1,
   "id": "c0184c7a",
   "metadata": {},
   "outputs": [],
   "source": [
    "from langgraph.graph import StateGraph, START, END\n",
    "from langchain_openai import ChatOpenAI\n",
    "from typing import TypedDict\n",
    "from dotenv import load_dotenv"
   ]
  },
  {
   "cell_type": "code",
   "execution_count": 2,
   "id": "29948ad1",
   "metadata": {},
   "outputs": [],
   "source": [
    "load_dotenv()\n",
    "\n",
    "model = ChatOpenAI()"
   ]
  },
  {
   "cell_type": "code",
   "execution_count": 3,
   "id": "99515701",
   "metadata": {},
   "outputs": [],
   "source": [
    "class BlogState(TypedDict):\n",
    "\n",
    "    title: str\n",
    "    outline: str\n",
    "    content: str"
   ]
  },
  {
   "cell_type": "code",
   "execution_count": 4,
   "id": "549405e4",
   "metadata": {},
   "outputs": [],
   "source": [
    "def create_outline(state: BlogState) -> BlogState:\n",
    "\n",
    "    # fetch title\n",
    "    title = state['title']\n",
    "\n",
    "    # call llm gen outline\n",
    "    prompt = f'Generate a detailed outline for a blog on the topic - {title}'\n",
    "    outline = model.invoke(prompt).content\n",
    "\n",
    "    # update state\n",
    "    state['outline'] = outline\n",
    "\n",
    "    return state"
   ]
  },
  {
   "cell_type": "code",
   "execution_count": 5,
   "id": "becf1d80",
   "metadata": {},
   "outputs": [],
   "source": [
    "def create_blog(state: BlogState) -> BlogState:\n",
    "\n",
    "    title = state['title']\n",
    "    outline = state['outline']\n",
    "\n",
    "    prompt = f'Write a detailed blog on the title - {title} using the follwing outline \\n {outline}'\n",
    "\n",
    "    content = model.invoke(prompt).content\n",
    "\n",
    "    state['content'] = content\n",
    "\n",
    "    return state"
   ]
  },
  {
   "cell_type": "code",
   "execution_count": 6,
   "id": "6ed3bc59",
   "metadata": {},
   "outputs": [],
   "source": [
    "graph = StateGraph(BlogState)\n",
    "\n",
    "# nodes\n",
    "graph.add_node('create_outline', create_outline)\n",
    "graph.add_node('create_blog', create_blog)\n",
    "\n",
    "# edges\n",
    "graph.add_edge(START, 'create_outline')\n",
    "graph.add_edge('create_outline', 'create_blog')\n",
    "graph.add_edge('create_blog', END)\n",
    "\n",
    "workflow = graph.compile()"
   ]
  },
  {
   "cell_type": "code",
   "execution_count": 7,
   "id": "f69d156f",
   "metadata": {},
   "outputs": [
    {
     "name": "stdout",
     "output_type": "stream",
     "text": [
      "{'title': 'Rise of AI in India', 'outline': 'I. Introduction\\n    A. Definition of AI\\n    B. Brief overview of AI technology\\n    C. Growing importance of AI in India\\n    \\nII. History of AI in India\\n    A. Early developments in AI in India\\n    B. Adoption of AI in various industries\\n    C. Government initiatives to promote AI in India\\n\\nIII. Current state of AI in India\\n    A. Overview of AI startups in India\\n    B. Major players in the AI industry in India\\n    C. Adoption of AI technologies in different sectors\\n    \\nIV. Impact of AI on Indian economy\\n    A. Increased productivity and efficiency\\n    B. Job creation and displacement\\n    C. Opportunities and challenges in AI adoption\\n    \\nV. Future of AI in India\\n    A. Expected growth of AI industry in India\\n    B. Potential challenges in AI implementation\\n    C. Role of government and industry in promoting AI innovation\\n    \\nVI. Case studies of successful AI implementations in India\\n    A. Healthcare\\n    B. Agriculture\\n    C. Finance\\n    D. Education\\n\\nVII. Ethical considerations in AI development in India\\n    A. Bias in AI algorithms\\n    B. Data privacy concerns\\n    C. Accountability and transparency in AI decision-making\\n    \\nVIII. Conclusion\\n    A. Recap of key points discussed in the blog\\n    B. Final thoughts on the rise of AI in India\\n    C. Call to action for readers to stay updated on AI developments in India.', 'content': 'I. Introduction\\n\\nA. Artificial Intelligence (AI) is the simulation of human intelligence processes by machines, including learning, reasoning, and self-correction. \\nB. AI technology encompasses machine learning, natural language processing, image recognition, and robotics, among others. \\nC. The growing importance of AI in India can be seen in its adoption across various sectors such as healthcare, finance, agriculture, and education.\\n\\nII. History of AI in India\\n\\nA. India has a long history of research and development in AI, with institutions like IITs and research organizations pioneering early developments in the field. \\nB. The adoption of AI in various industries in India has been on the rise, with companies leveraging AI solutions to improve efficiency, enhance customer experience, and drive innovation. \\nC. The Indian government has been actively promoting AI through initiatives like the National AI Portal and the National AI Strategy, aimed at fostering AI research, development, and adoption in the country.\\n\\nIII. Current state of AI in India\\n\\nA. The Indian AI startup ecosystem is thriving, with companies like Niki.ai, SigTuple, and GreyOrange leading the way in developing cutting-edge AI solutions. \\nB. Major players in the AI industry in India include multinational companies like Google, Microsoft, and IBM, as well as homegrown firms like Reliance Jio and Tata Group. \\nC. AI technologies are being adopted in various sectors in India, including healthcare (for disease diagnosis and treatment planning), agriculture (for crop monitoring and yield prediction), finance (for fraud detection and risk management), and education (for personalized learning and student assessment).\\n\\nIV. Impact of AI on Indian economy\\n\\nA. AI has the potential to increase productivity and efficiency in Indian industries, leading to cost savings and improved business outcomes. \\nB. While AI adoption may lead to the creation of new jobs in AI-related fields, there are concerns about job displacement due to automation. \\nC. The opportunities and challenges in AI adoption in India include the need for upskilling the workforce, addressing data privacy concerns, and ensuring equitable access to AI technologies.\\n\\nV. Future of AI in India\\n\\nA. The AI industry in India is expected to continue growing, with a projected market size of $6.4 billion by 2025. \\nB. Potential challenges in AI implementation in India include the lack of skilled AI talent, limited infrastructure for AI research and development, and regulatory barriers. \\nC. The role of government and industry in promoting AI innovation is crucial for sustaining the growth of the AI industry in India.\\n\\nVI. Case studies of successful AI implementations in India\\n\\nA. In healthcare, AI solutions like Practo and Lybrate are enabling remote diagnosis and treatment, improving access to healthcare services in rural areas. \\nB. In agriculture, companies like CropIn and AgNext are using AI technologies for precision agriculture, increasing crop yield and reducing wastage. \\nC. In finance, AI-powered solutions like Paytm and MobiKwik are enabling seamless transactions and fraud detection, enhancing financial inclusion in India. \\nD. In education, platforms like Byju’s and Toppr are using AI for personalized learning, helping students improve their academic performance.\\n\\nVII. Ethical considerations in AI development in India\\n\\nA. Bias in AI algorithms can lead to discriminatory outcomes, reinforcing existing social inequalities. \\nB. Data privacy concerns arise from the collection and use of personal data in AI systems, raising questions about user consent and data security. \\nC. Accountability and transparency in AI decision-making are essential for ensuring that AI systems are ethically and responsibly designed and deployed in India.\\n\\nVIII. Conclusion\\n\\nA. The rise of AI in India presents significant opportunities for economic growth, innovation, and societal impact.\\nB. As India continues to embrace AI technologies, it is essential for stakeholders to address the challenges and ethical considerations associated with AI development.\\nC. Readers are encouraged to stay updated on AI developments in India and actively engage in discussions on the ethical and responsible use of AI in society.'}\n"
     ]
    }
   ],
   "source": [
    "intial_state = {'title': 'Rise of AI in India'}\n",
    "\n",
    "final_state = workflow.invoke(intial_state)\n",
    "\n",
    "print(final_state)"
   ]
  },
  {
   "cell_type": "code",
   "execution_count": 8,
   "id": "b02947de",
   "metadata": {},
   "outputs": [
    {
     "name": "stdout",
     "output_type": "stream",
     "text": [
      "I. Introduction\n",
      "    A. Definition of AI\n",
      "    B. Brief overview of AI technology\n",
      "    C. Growing importance of AI in India\n",
      "    \n",
      "II. History of AI in India\n",
      "    A. Early developments in AI in India\n",
      "    B. Adoption of AI in various industries\n",
      "    C. Government initiatives to promote AI in India\n",
      "\n",
      "III. Current state of AI in India\n",
      "    A. Overview of AI startups in India\n",
      "    B. Major players in the AI industry in India\n",
      "    C. Adoption of AI technologies in different sectors\n",
      "    \n",
      "IV. Impact of AI on Indian economy\n",
      "    A. Increased productivity and efficiency\n",
      "    B. Job creation and displacement\n",
      "    C. Opportunities and challenges in AI adoption\n",
      "    \n",
      "V. Future of AI in India\n",
      "    A. Expected growth of AI industry in India\n",
      "    B. Potential challenges in AI implementation\n",
      "    C. Role of government and industry in promoting AI innovation\n",
      "    \n",
      "VI. Case studies of successful AI implementations in India\n",
      "    A. Healthcare\n",
      "    B. Agriculture\n",
      "    C. Finance\n",
      "    D. Education\n",
      "\n",
      "VII. Ethical considerations in AI development in India\n",
      "    A. Bias in AI algorithms\n",
      "    B. Data privacy concerns\n",
      "    C. Accountability and transparency in AI decision-making\n",
      "    \n",
      "VIII. Conclusion\n",
      "    A. Recap of key points discussed in the blog\n",
      "    B. Final thoughts on the rise of AI in India\n",
      "    C. Call to action for readers to stay updated on AI developments in India.\n"
     ]
    }
   ],
   "source": [
    "print(final_state['outline'])"
   ]
  },
  {
   "cell_type": "code",
   "execution_count": 9,
   "id": "484cb10f",
   "metadata": {},
   "outputs": [
    {
     "name": "stdout",
     "output_type": "stream",
     "text": [
      "I. Introduction\n",
      "\n",
      "A. Artificial Intelligence (AI) is the simulation of human intelligence processes by machines, including learning, reasoning, and self-correction. \n",
      "B. AI technology encompasses machine learning, natural language processing, image recognition, and robotics, among others. \n",
      "C. The growing importance of AI in India can be seen in its adoption across various sectors such as healthcare, finance, agriculture, and education.\n",
      "\n",
      "II. History of AI in India\n",
      "\n",
      "A. India has a long history of research and development in AI, with institutions like IITs and research organizations pioneering early developments in the field. \n",
      "B. The adoption of AI in various industries in India has been on the rise, with companies leveraging AI solutions to improve efficiency, enhance customer experience, and drive innovation. \n",
      "C. The Indian government has been actively promoting AI through initiatives like the National AI Portal and the National AI Strategy, aimed at fostering AI research, development, and adoption in the country.\n",
      "\n",
      "III. Current state of AI in India\n",
      "\n",
      "A. The Indian AI startup ecosystem is thriving, with companies like Niki.ai, SigTuple, and GreyOrange leading the way in developing cutting-edge AI solutions. \n",
      "B. Major players in the AI industry in India include multinational companies like Google, Microsoft, and IBM, as well as homegrown firms like Reliance Jio and Tata Group. \n",
      "C. AI technologies are being adopted in various sectors in India, including healthcare (for disease diagnosis and treatment planning), agriculture (for crop monitoring and yield prediction), finance (for fraud detection and risk management), and education (for personalized learning and student assessment).\n",
      "\n",
      "IV. Impact of AI on Indian economy\n",
      "\n",
      "A. AI has the potential to increase productivity and efficiency in Indian industries, leading to cost savings and improved business outcomes. \n",
      "B. While AI adoption may lead to the creation of new jobs in AI-related fields, there are concerns about job displacement due to automation. \n",
      "C. The opportunities and challenges in AI adoption in India include the need for upskilling the workforce, addressing data privacy concerns, and ensuring equitable access to AI technologies.\n",
      "\n",
      "V. Future of AI in India\n",
      "\n",
      "A. The AI industry in India is expected to continue growing, with a projected market size of $6.4 billion by 2025. \n",
      "B. Potential challenges in AI implementation in India include the lack of skilled AI talent, limited infrastructure for AI research and development, and regulatory barriers. \n",
      "C. The role of government and industry in promoting AI innovation is crucial for sustaining the growth of the AI industry in India.\n",
      "\n",
      "VI. Case studies of successful AI implementations in India\n",
      "\n",
      "A. In healthcare, AI solutions like Practo and Lybrate are enabling remote diagnosis and treatment, improving access to healthcare services in rural areas. \n",
      "B. In agriculture, companies like CropIn and AgNext are using AI technologies for precision agriculture, increasing crop yield and reducing wastage. \n",
      "C. In finance, AI-powered solutions like Paytm and MobiKwik are enabling seamless transactions and fraud detection, enhancing financial inclusion in India. \n",
      "D. In education, platforms like Byju’s and Toppr are using AI for personalized learning, helping students improve their academic performance.\n",
      "\n",
      "VII. Ethical considerations in AI development in India\n",
      "\n",
      "A. Bias in AI algorithms can lead to discriminatory outcomes, reinforcing existing social inequalities. \n",
      "B. Data privacy concerns arise from the collection and use of personal data in AI systems, raising questions about user consent and data security. \n",
      "C. Accountability and transparency in AI decision-making are essential for ensuring that AI systems are ethically and responsibly designed and deployed in India.\n",
      "\n",
      "VIII. Conclusion\n",
      "\n",
      "A. The rise of AI in India presents significant opportunities for economic growth, innovation, and societal impact.\n",
      "B. As India continues to embrace AI technologies, it is essential for stakeholders to address the challenges and ethical considerations associated with AI development.\n",
      "C. Readers are encouraged to stay updated on AI developments in India and actively engage in discussions on the ethical and responsible use of AI in society.\n"
     ]
    }
   ],
   "source": [
    "print(final_state['content'])"
   ]
  },
  {
   "cell_type": "code",
   "execution_count": null,
   "id": "37b518d9",
   "metadata": {},
   "outputs": [],
   "source": []
  }
 ],
 "metadata": {
  "kernelspec": {
   "display_name": "myenv (3.12.6)",
   "language": "python",
   "name": "python3"
  },
  "language_info": {
   "codemirror_mode": {
    "name": "ipython",
    "version": 3
   },
   "file_extension": ".py",
   "mimetype": "text/x-python",
   "name": "python",
   "nbconvert_exporter": "python",
   "pygments_lexer": "ipython3",
   "version": "3.12.6"
  }
 },
 "nbformat": 4,
 "nbformat_minor": 5
}
